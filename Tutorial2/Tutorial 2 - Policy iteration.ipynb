{
 "cells": [
  {
   "cell_type": "markdown",
   "metadata": {},
   "source": [
    "# Example of Value iteration"
   ]
  },
  {
   "cell_type": "markdown",
   "metadata": {},
   "source": [
    "We will work out an example of the policy iteration algorithm on the Frozen Lake gym env\n",
    "\n",
    "</b> https://gym.openai.com/envs/FrozenLake-v0/"
   ]
  },
  {
   "cell_type": "markdown",
   "metadata": {},
   "source": [
    "## 1) Environment breakdown"
   ]
  },
  {
   "cell_type": "code",
   "execution_count": 1,
   "metadata": {
    "collapsed": true
   },
   "outputs": [],
   "source": [
    "import numpy as np\n",
    "import gym\n",
    "from gym.envs.registration import register\n",
    "\n",
    "# make a non-slippery version of Frozen lake\n",
    "register(\n",
    "    id='FrozenLakeNotSlippery-v0',\n",
    "    entry_point='gym.envs.toy_text:FrozenLakeEnv',\n",
    "    kwargs={'map_name' : '4x4', 'is_slippery': False},\n",
    "    max_episode_steps=100,\n",
    "    reward_threshold=0.78, # optimum = .8196\n",
    ")"
   ]
  },
  {
   "cell_type": "code",
   "execution_count": 2,
   "metadata": {},
   "outputs": [],
   "source": [
    "# create environment\n",
    "env = gym.make(\"FrozenLakeNotSlippery-v0\")\n",
    "\n",
    "# make sure it is the correct format\n",
    "if type(env) == gym.wrappers.time_limit.TimeLimit:\n",
    "    env = env.unwrapped"
   ]
  },
  {
   "cell_type": "code",
   "execution_count": 3,
   "metadata": {},
   "outputs": [
    {
     "name": "stdout",
     "output_type": "stream",
     "text": [
      "Environment has 16 states and 4 actions.\n"
     ]
    }
   ],
   "source": [
    "env.nS # Get the number of states\n",
    "env.nA # Get the number of actions\n",
    "\n",
    "print('Environment has %d states and %d actions.' % (env.nS, env.nA))"
   ]
  },
  {
   "cell_type": "code",
   "execution_count": 4,
   "metadata": {},
   "outputs": [
    {
     "name": "stdout",
     "output_type": "stream",
     "text": [
      "\n",
      "\u001b[41mS\u001b[0mFFF\n",
      "FHFH\n",
      "FFFH\n",
      "HFFG\n"
     ]
    }
   ],
   "source": [
    "# display env\n",
    "env.render()"
   ]
  },
  {
   "cell_type": "code",
   "execution_count": 5,
   "metadata": {
    "collapsed": true
   },
   "outputs": [],
   "source": [
    "# The actions referrence\n",
    "LEFT = 0\n",
    "DOWN = 1\n",
    "RIGHT = 2\n",
    "UP = 3"
   ]
  },
  {
   "cell_type": "code",
   "execution_count": 6,
   "metadata": {},
   "outputs": [
    {
     "data": {
      "text/plain": [
       "[(1.0, 0, 0.0, False)]"
      ]
     },
     "execution_count": 6,
     "metadata": {},
     "output_type": "execute_result"
    }
   ],
   "source": [
    "# The environment dynamics, represented as a dictionary of dictionaries\n",
    "# getting the info for P(.|s,a)\n",
    "state = 0 \n",
    "action = LEFT\n",
    "env.P[state][action] # returns the [(P(s'|s, a), s', reward, is_terminal), ... ] "
   ]
  },
  {
   "cell_type": "markdown",
   "metadata": {},
   "source": [
    "## 2) What we need to do\n",
    "Find a policy $\\pi(a|s)$, which is a conditional probability distribution that describes how we should act in the environment"
   ]
  },
  {
   "cell_type": "code",
   "execution_count": 7,
   "metadata": {},
   "outputs": [
    {
     "data": {
      "text/plain": [
       "array([[0.25, 0.25, 0.25, 0.25],\n",
       "       [0.25, 0.25, 0.25, 0.25],\n",
       "       [0.25, 0.25, 0.25, 0.25],\n",
       "       [0.25, 0.25, 0.25, 0.25],\n",
       "       [0.25, 0.25, 0.25, 0.25],\n",
       "       [0.25, 0.25, 0.25, 0.25],\n",
       "       [0.25, 0.25, 0.25, 0.25],\n",
       "       [0.25, 0.25, 0.25, 0.25],\n",
       "       [0.25, 0.25, 0.25, 0.25],\n",
       "       [0.25, 0.25, 0.25, 0.25],\n",
       "       [0.25, 0.25, 0.25, 0.25],\n",
       "       [0.25, 0.25, 0.25, 0.25],\n",
       "       [0.25, 0.25, 0.25, 0.25],\n",
       "       [0.25, 0.25, 0.25, 0.25],\n",
       "       [0.25, 0.25, 0.25, 0.25],\n",
       "       [0.25, 0.25, 0.25, 0.25]])"
      ]
     },
     "execution_count": 7,
     "metadata": {},
     "output_type": "execute_result"
    }
   ],
   "source": [
    "# Example: Uniform random policy\n",
    "policy = np.ones([env.nS, env.nA]) / env.nA\n",
    "policy"
   ]
  },
  {
   "cell_type": "markdown",
   "metadata": {},
   "source": [
    "Demonstration of running this policy in the environment"
   ]
  },
  {
   "cell_type": "code",
   "execution_count": 8,
   "metadata": {
    "collapsed": true
   },
   "outputs": [],
   "source": [
    "def run_policy(env, policy):\n",
    "    '''\n",
    "    Function for running a policy on an environment.\n",
    "    Its just a way to visualize what you policy is doing in the env\n",
    "    '''\n",
    "    # initialize the env\n",
    "    state = env.reset()\n",
    "    env.render()\n",
    "    print(\"\\n ------ \\n\")\n",
    "    \n",
    "    total_reward = 0\n",
    "    num_steps = 0\n",
    "    # iterate through the environment until termination\n",
    "    while True:\n",
    "        \n",
    "        action = np.random.choice(env.nA, 1, p = policy[state])[0] # sample an action from your policy\n",
    "        next_state, reward, is_terminal, _ = env.step(action) # use that action on the env and get info back\n",
    "    \n",
    "        env.render()\n",
    "        print(\"\\n ------ \\n\")\n",
    "        \n",
    "        state = next_state\n",
    "        \n",
    "        total_reward += reward\n",
    "        num_steps += 1\n",
    "\n",
    "        if is_terminal:\n",
    "            break\n",
    "    \n",
    "    print(\"The episode ended after {0} steps with a total reward of {1}\".format(num_steps, total_reward))"
   ]
  },
  {
   "cell_type": "code",
   "execution_count": 45,
   "metadata": {},
   "outputs": [
    {
     "name": "stdout",
     "output_type": "stream",
     "text": [
      "\n",
      "\u001b[41mS\u001b[0mFFF\n",
      "FHFH\n",
      "FFFH\n",
      "HFFG\n",
      "\n",
      " ------ \n",
      "\n",
      "  (Left)\n",
      "\u001b[41mS\u001b[0mFFF\n",
      "FHFH\n",
      "FFFH\n",
      "HFFG\n",
      "\n",
      " ------ \n",
      "\n",
      "  (Left)\n",
      "\u001b[41mS\u001b[0mFFF\n",
      "FHFH\n",
      "FFFH\n",
      "HFFG\n",
      "\n",
      " ------ \n",
      "\n",
      "  (Up)\n",
      "\u001b[41mS\u001b[0mFFF\n",
      "FHFH\n",
      "FFFH\n",
      "HFFG\n",
      "\n",
      " ------ \n",
      "\n",
      "  (Down)\n",
      "SFFF\n",
      "\u001b[41mF\u001b[0mHFH\n",
      "FFFH\n",
      "HFFG\n",
      "\n",
      " ------ \n",
      "\n",
      "  (Down)\n",
      "SFFF\n",
      "FHFH\n",
      "\u001b[41mF\u001b[0mFFH\n",
      "HFFG\n",
      "\n",
      " ------ \n",
      "\n",
      "  (Down)\n",
      "SFFF\n",
      "FHFH\n",
      "FFFH\n",
      "\u001b[41mH\u001b[0mFFG\n",
      "\n",
      " ------ \n",
      "\n",
      "The episode ended after 6 steps with a total reward of 0.0\n"
     ]
    }
   ],
   "source": [
    "run_policy(env, policy)"
   ]
  },
  {
   "cell_type": "markdown",
   "metadata": {},
   "source": [
    "## 3) Policy Evaluation"
   ]
  },
  {
   "attachments": {
    "policy%20evaluation.png": {
     "image/png": "[encoded data removed]"
    }
   },
   "cell_type": "markdown",
   "metadata": {},
   "source": [
    "![policy%20evaluation.png](attachment:policy%20evaluation.png)"
   ]
  },
  {
   "attachments": {
    "policy%20evalu%20pseudo.png": {
     "image/png": "[encoded data removed]"
    }
   },
   "cell_type": "markdown",
   "metadata": {},
   "source": [
    "![policy%20evalu%20pseudo.png](attachment:policy%20evalu%20pseudo.png)"
   ]
  },
  {
   "cell_type": "code",
   "execution_count": 9,
   "metadata": {
    "collapsed": true
   },
   "outputs": [],
   "source": [
    "def policy_evaluation(env, policy, discount = 1.0, epsilon = 10 ** -8):\n",
    "    \n",
    "    V = np.zeros(env.nS) # initialize the states to zero\n",
    "    \n",
    "    while(True):\n",
    "        \n",
    "        delta = 0\n",
    "        \n",
    "        for state in range(env.nS):\n",
    "            \n",
    "            v_old = V[state]\n",
    "            \n",
    "            sum = 0\n",
    "            for action, action_prob in enumerate(policy[state]):\n",
    "                \n",
    "                for state_prob, next_state, reward, end in env.P[state][action]:\n",
    "                    sum += action_prob * state_prob * (reward + discount * V[next_state])\n",
    "            \n",
    "            V[state] = sum\n",
    "            delta = max(delta, np.abs(V[state] - v_old))\n",
    "            \n",
    "        if delta < epsilon: return V\n",
    "            "
   ]
  },
  {
   "cell_type": "code",
   "execution_count": 10,
   "metadata": {},
   "outputs": [
    {
     "data": {
      "text/plain": [
       "array([0.00447724, 0.00422245, 0.01006675, 0.00411821, 0.00672195,\n",
       "       0.        , 0.02633371, 0.        , 0.01867615, 0.05760701,\n",
       "       0.10697195, 0.        , 0.        , 0.13038305, 0.39149016,\n",
       "       0.        ])"
      ]
     },
     "execution_count": 10,
     "metadata": {},
     "output_type": "execute_result"
    }
   ],
   "source": [
    "# random policy evaluation\n",
    "V = policy_evaluation(env, policy, discount = 0.9)\n",
    "V"
   ]
  },
  {
   "cell_type": "markdown",
   "metadata": {},
   "source": [
    "## 4) Policy Improvement"
   ]
  },
  {
   "attachments": {
    "q%20value.png": {
     "image/png": "[encoded data removed]"
    }
   },
   "cell_type": "markdown",
   "metadata": {},
   "source": [
    "First lets talk about action values\n",
    "\n",
    "![q%20value.png](attachment:q%20value.png)"
   ]
  },
  {
   "cell_type": "code",
   "execution_count": 11,
   "metadata": {
    "collapsed": true
   },
   "outputs": [],
   "source": [
    "def get_q_values(env, state, V, discount = 1):\n",
    "    '''\n",
    "    Function to return the all the action values of the form Q(s,a) for a given state s. \n",
    "    '''\n",
    "    action_values = np.zeros(env.nA)\n",
    "    \n",
    "    for action in range(env.nA):\n",
    "        \n",
    "        for prob, next_state, reward, done in env.P[state][action]:\n",
    "            \n",
    "            action_values[action] += prob * (reward + discount * V[next_state])\n",
    "            \n",
    "    return action_values"
   ]
  },
  {
   "cell_type": "markdown",
   "metadata": {},
   "source": [
    "Policy imporvement is just being greedy"
   ]
  },
  {
   "cell_type": "code",
   "execution_count": 12,
   "metadata": {
    "collapsed": true
   },
   "outputs": [],
   "source": [
    "def policy_improvement(env, policy, V, discount = 1.0):\n",
    "    \n",
    "    for state in range(env.nS):\n",
    "        \n",
    "        action_values = get_q_values(env, state, V, discount = discount) # get the q values associated to state s\n",
    "        best_action = np.argmax(action_values) # choose best action\n",
    "        \n",
    "        policy[state] = np.eye(env.nA)[best_action] # greedy update of policy\n",
    "        \n",
    "    return policy"
   ]
  },
  {
   "cell_type": "markdown",
   "metadata": {},
   "source": [
    "## 5) Policy iteration"
   ]
  },
  {
   "attachments": {
    "policy%20improvement.png": {
     "image/png": "[encoded data removed]"
    }
   },
   "cell_type": "markdown",
   "metadata": {},
   "source": [
    "![policy%20improvement.png](attachment:policy%20improvement.png)"
   ]
  },
  {
   "cell_type": "code",
   "execution_count": 13,
   "metadata": {
    "collapsed": true
   },
   "outputs": [],
   "source": [
    "def policy_iteration(env, discount = 1.0):\n",
    "    \n",
    "    policy = np.ones([env.nS, env.nA]) / env.nA # create a random uniform policy\n",
    "    \n",
    "    while True:\n",
    "        \n",
    "        old_policy = policy\n",
    "        \n",
    "        V = policy_evaluation(env, policy, discount = discount) # evaluate the policy\n",
    "        policy = policy_improvement(env, policy, V, discount = discount) # improve it\n",
    "        \n",
    "        # stop when the policy doesn't change anymore. Use each the optimal policy\n",
    "        if np.array_equal(old_policy, policy):\n",
    "            break\n",
    "            \n",
    "    return policy"
   ]
  },
  {
   "cell_type": "code",
   "execution_count": 14,
   "metadata": {
    "collapsed": true,
    "scrolled": true
   },
   "outputs": [],
   "source": [
    "env.reset()\n",
    "opt_policy = policy_iteration(env, discount = 0.9)"
   ]
  },
  {
   "cell_type": "code",
   "execution_count": 15,
   "metadata": {},
   "outputs": [
    {
     "data": {
      "text/plain": [
       "array([[0., 1., 0., 0.],\n",
       "       [0., 0., 1., 0.],\n",
       "       [0., 1., 0., 0.],\n",
       "       [1., 0., 0., 0.],\n",
       "       [0., 1., 0., 0.],\n",
       "       [1., 0., 0., 0.],\n",
       "       [0., 1., 0., 0.],\n",
       "       [1., 0., 0., 0.],\n",
       "       [0., 0., 1., 0.],\n",
       "       [0., 1., 0., 0.],\n",
       "       [0., 1., 0., 0.],\n",
       "       [1., 0., 0., 0.],\n",
       "       [1., 0., 0., 0.],\n",
       "       [0., 0., 1., 0.],\n",
       "       [0., 0., 1., 0.],\n",
       "       [1., 0., 0., 0.]])"
      ]
     },
     "execution_count": 15,
     "metadata": {},
     "output_type": "execute_result"
    }
   ],
   "source": [
    "# Recall\n",
    "LEFT = 0\n",
    "DOWN = 1\n",
    "RIGHT = 2\n",
    "UP = 3\n",
    "\n",
    "opt_policy"
   ]
  },
  {
   "cell_type": "code",
   "execution_count": 16,
   "metadata": {},
   "outputs": [
    {
     "name": "stdout",
     "output_type": "stream",
     "text": [
      "\n",
      "\u001b[41mS\u001b[0mFFF\n",
      "FHFH\n",
      "FFFH\n",
      "HFFG\n"
     ]
    }
   ],
   "source": [
    "env.render()"
   ]
  },
  {
   "cell_type": "code",
   "execution_count": 17,
   "metadata": {},
   "outputs": [
    {
     "name": "stdout",
     "output_type": "stream",
     "text": [
      "\n",
      "\u001b[41mS\u001b[0mFFF\n",
      "FHFH\n",
      "FFFH\n",
      "HFFG\n",
      "\n",
      " ------ \n",
      "\n",
      "  (Down)\n",
      "SFFF\n",
      "\u001b[41mF\u001b[0mHFH\n",
      "FFFH\n",
      "HFFG\n",
      "\n",
      " ------ \n",
      "\n",
      "  (Down)\n",
      "SFFF\n",
      "FHFH\n",
      "\u001b[41mF\u001b[0mFFH\n",
      "HFFG\n",
      "\n",
      " ------ \n",
      "\n",
      "  (Right)\n",
      "SFFF\n",
      "FHFH\n",
      "F\u001b[41mF\u001b[0mFH\n",
      "HFFG\n",
      "\n",
      " ------ \n",
      "\n",
      "  (Down)\n",
      "SFFF\n",
      "FHFH\n",
      "FFFH\n",
      "H\u001b[41mF\u001b[0mFG\n",
      "\n",
      " ------ \n",
      "\n",
      "  (Right)\n",
      "SFFF\n",
      "FHFH\n",
      "FFFH\n",
      "HF\u001b[41mF\u001b[0mG\n",
      "\n",
      " ------ \n",
      "\n",
      "  (Right)\n",
      "SFFF\n",
      "FHFH\n",
      "FFFH\n",
      "HFF\u001b[41mG\u001b[0m\n",
      "\n",
      " ------ \n",
      "\n",
      "The episode ended after 6 steps with a total reward of 1.0\n"
     ]
    }
   ],
   "source": [
    "# run the optimal policy\n",
    "run_policy(env, opt_policy)"
   ]
  },
  {
   "cell_type": "markdown",
   "metadata": {},
   "source": [
    "## Additional Resources and References\n",
    "\n",
    "</br> Images and pseudo code was taken from Reinforcement Learning an Introduction, R.Sutton and A. Barto: http://incompleteideas.net/book/RLbook2018.pdf\n",
    "\n",
    "</br> https://www.analyticsvidhya.com/blog/2018/09/reinforcement-learning-model-based-planning-dynamic-programming/ (blog post that talks about the same thing)\n",
    "\n",
    "</br> https://www.youtube.com/watch?v=5R2vErZn0yw (youtube video that does walk through of the same thing)"
   ]
  }
 ],
 "metadata": {
  "kernelspec": {
   "display_name": "Python 3",
   "language": "python",
   "name": "python3"
  },
  "language_info": {
   "codemirror_mode": {
    "name": "ipython",
    "version": 3
   },
   "file_extension": ".py",
   "mimetype": "text/x-python",
   "name": "python",
   "nbconvert_exporter": "python",
   "pygments_lexer": "ipython3",
   "version": "3.6.3"
  }
 },
 "nbformat": 4,
 "nbformat_minor": 2
}
